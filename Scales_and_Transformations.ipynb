{
  "nbformat": 4,
  "nbformat_minor": 0,
  "metadata": {
    "colab": {
      "provenance": [],
      "collapsed_sections": []
    },
    "kernelspec": {
      "name": "python3",
      "display_name": "Python 3"
    },
    "language_info": {
      "name": "python"
    }
  },
  "cells": [
    {
      "cell_type": "code",
      "metadata": {
        "colab": {
          "base_uri": "https://localhost:8080/"
        },
        "id": "qz_emoDRRLu9",
        "outputId": "00b6017e-978a-4e0f-83d3-ef8d6c93f231"
      },
      "source": [
        "from google.colab import drive\n",
        "drive.mount('/content/drive')"
      ],
      "execution_count": null,
      "outputs": [
        {
          "output_type": "stream",
          "text": [
            "Mounted at /content/drive\n"
          ],
          "name": "stdout"
        }
      ]
    },
    {
      "cell_type": "code",
      "metadata": {
        "colab": {
          "base_uri": "https://localhost:8080/",
          "height": 376
        },
        "id": "r0gw7nORRRxG",
        "outputId": "c7aa4699-8756-422c-f8bd-737cec173e1b"
      },
      "source": [
        "import numpy as np\n",
        "import pandas as pd\n",
        "import matplotlib.pyplot as plt\n",
        "import seaborn as sb\n",
        "%matplotlib inline\n",
        "\n",
        "pokemon = pd.read_csv('/content/drive/MyDrive/Data Folder /pokemon.csv')\n",
        "print(pokemon.shape)\n",
        "pokemon.head(10)"
      ],
      "execution_count": null,
      "outputs": [
        {
          "output_type": "stream",
          "text": [
            "(807, 14)\n"
          ],
          "name": "stdout"
        },
        {
          "output_type": "execute_result",
          "data": {
            "text/html": [
              "<div>\n",
              "<style scoped>\n",
              "    .dataframe tbody tr th:only-of-type {\n",
              "        vertical-align: middle;\n",
              "    }\n",
              "\n",
              "    .dataframe tbody tr th {\n",
              "        vertical-align: top;\n",
              "    }\n",
              "\n",
              "    .dataframe thead th {\n",
              "        text-align: right;\n",
              "    }\n",
              "</style>\n",
              "<table border=\"1\" class=\"dataframe\">\n",
              "  <thead>\n",
              "    <tr style=\"text-align: right;\">\n",
              "      <th></th>\n",
              "      <th>id</th>\n",
              "      <th>species</th>\n",
              "      <th>generation_id</th>\n",
              "      <th>height</th>\n",
              "      <th>weight</th>\n",
              "      <th>base_experience</th>\n",
              "      <th>type_1</th>\n",
              "      <th>type_2</th>\n",
              "      <th>hp</th>\n",
              "      <th>attack</th>\n",
              "      <th>defense</th>\n",
              "      <th>speed</th>\n",
              "      <th>special-attack</th>\n",
              "      <th>special-defense</th>\n",
              "    </tr>\n",
              "  </thead>\n",
              "  <tbody>\n",
              "    <tr>\n",
              "      <th>0</th>\n",
              "      <td>1</td>\n",
              "      <td>bulbasaur</td>\n",
              "      <td>1</td>\n",
              "      <td>0.7</td>\n",
              "      <td>6.9</td>\n",
              "      <td>64</td>\n",
              "      <td>grass</td>\n",
              "      <td>poison</td>\n",
              "      <td>45</td>\n",
              "      <td>49</td>\n",
              "      <td>49</td>\n",
              "      <td>45</td>\n",
              "      <td>65</td>\n",
              "      <td>65</td>\n",
              "    </tr>\n",
              "    <tr>\n",
              "      <th>1</th>\n",
              "      <td>2</td>\n",
              "      <td>ivysaur</td>\n",
              "      <td>1</td>\n",
              "      <td>1.0</td>\n",
              "      <td>13.0</td>\n",
              "      <td>142</td>\n",
              "      <td>grass</td>\n",
              "      <td>poison</td>\n",
              "      <td>60</td>\n",
              "      <td>62</td>\n",
              "      <td>63</td>\n",
              "      <td>60</td>\n",
              "      <td>80</td>\n",
              "      <td>80</td>\n",
              "    </tr>\n",
              "    <tr>\n",
              "      <th>2</th>\n",
              "      <td>3</td>\n",
              "      <td>venusaur</td>\n",
              "      <td>1</td>\n",
              "      <td>2.0</td>\n",
              "      <td>100.0</td>\n",
              "      <td>236</td>\n",
              "      <td>grass</td>\n",
              "      <td>poison</td>\n",
              "      <td>80</td>\n",
              "      <td>82</td>\n",
              "      <td>83</td>\n",
              "      <td>80</td>\n",
              "      <td>100</td>\n",
              "      <td>100</td>\n",
              "    </tr>\n",
              "    <tr>\n",
              "      <th>3</th>\n",
              "      <td>4</td>\n",
              "      <td>charmander</td>\n",
              "      <td>1</td>\n",
              "      <td>0.6</td>\n",
              "      <td>8.5</td>\n",
              "      <td>62</td>\n",
              "      <td>fire</td>\n",
              "      <td>NaN</td>\n",
              "      <td>39</td>\n",
              "      <td>52</td>\n",
              "      <td>43</td>\n",
              "      <td>65</td>\n",
              "      <td>60</td>\n",
              "      <td>50</td>\n",
              "    </tr>\n",
              "    <tr>\n",
              "      <th>4</th>\n",
              "      <td>5</td>\n",
              "      <td>charmeleon</td>\n",
              "      <td>1</td>\n",
              "      <td>1.1</td>\n",
              "      <td>19.0</td>\n",
              "      <td>142</td>\n",
              "      <td>fire</td>\n",
              "      <td>NaN</td>\n",
              "      <td>58</td>\n",
              "      <td>64</td>\n",
              "      <td>58</td>\n",
              "      <td>80</td>\n",
              "      <td>80</td>\n",
              "      <td>65</td>\n",
              "    </tr>\n",
              "    <tr>\n",
              "      <th>5</th>\n",
              "      <td>6</td>\n",
              "      <td>charizard</td>\n",
              "      <td>1</td>\n",
              "      <td>1.7</td>\n",
              "      <td>90.5</td>\n",
              "      <td>240</td>\n",
              "      <td>fire</td>\n",
              "      <td>flying</td>\n",
              "      <td>78</td>\n",
              "      <td>84</td>\n",
              "      <td>78</td>\n",
              "      <td>100</td>\n",
              "      <td>109</td>\n",
              "      <td>85</td>\n",
              "    </tr>\n",
              "    <tr>\n",
              "      <th>6</th>\n",
              "      <td>7</td>\n",
              "      <td>squirtle</td>\n",
              "      <td>1</td>\n",
              "      <td>0.5</td>\n",
              "      <td>9.0</td>\n",
              "      <td>63</td>\n",
              "      <td>water</td>\n",
              "      <td>NaN</td>\n",
              "      <td>44</td>\n",
              "      <td>48</td>\n",
              "      <td>65</td>\n",
              "      <td>43</td>\n",
              "      <td>50</td>\n",
              "      <td>64</td>\n",
              "    </tr>\n",
              "    <tr>\n",
              "      <th>7</th>\n",
              "      <td>8</td>\n",
              "      <td>wartortle</td>\n",
              "      <td>1</td>\n",
              "      <td>1.0</td>\n",
              "      <td>22.5</td>\n",
              "      <td>142</td>\n",
              "      <td>water</td>\n",
              "      <td>NaN</td>\n",
              "      <td>59</td>\n",
              "      <td>63</td>\n",
              "      <td>80</td>\n",
              "      <td>58</td>\n",
              "      <td>65</td>\n",
              "      <td>80</td>\n",
              "    </tr>\n",
              "    <tr>\n",
              "      <th>8</th>\n",
              "      <td>9</td>\n",
              "      <td>blastoise</td>\n",
              "      <td>1</td>\n",
              "      <td>1.6</td>\n",
              "      <td>85.5</td>\n",
              "      <td>239</td>\n",
              "      <td>water</td>\n",
              "      <td>NaN</td>\n",
              "      <td>79</td>\n",
              "      <td>83</td>\n",
              "      <td>100</td>\n",
              "      <td>78</td>\n",
              "      <td>85</td>\n",
              "      <td>105</td>\n",
              "    </tr>\n",
              "    <tr>\n",
              "      <th>9</th>\n",
              "      <td>10</td>\n",
              "      <td>caterpie</td>\n",
              "      <td>1</td>\n",
              "      <td>0.3</td>\n",
              "      <td>2.9</td>\n",
              "      <td>39</td>\n",
              "      <td>bug</td>\n",
              "      <td>NaN</td>\n",
              "      <td>45</td>\n",
              "      <td>30</td>\n",
              "      <td>35</td>\n",
              "      <td>45</td>\n",
              "      <td>20</td>\n",
              "      <td>20</td>\n",
              "    </tr>\n",
              "  </tbody>\n",
              "</table>\n",
              "</div>"
            ],
            "text/plain": [
              "   id     species  generation_id  ...  speed  special-attack  special-defense\n",
              "0   1   bulbasaur              1  ...     45              65               65\n",
              "1   2     ivysaur              1  ...     60              80               80\n",
              "2   3    venusaur              1  ...     80             100              100\n",
              "3   4  charmander              1  ...     65              60               50\n",
              "4   5  charmeleon              1  ...     80              80               65\n",
              "5   6   charizard              1  ...    100             109               85\n",
              "6   7    squirtle              1  ...     43              50               64\n",
              "7   8   wartortle              1  ...     58              65               80\n",
              "8   9   blastoise              1  ...     78              85              105\n",
              "9  10    caterpie              1  ...     45              20               20\n",
              "\n",
              "[10 rows x 14 columns]"
            ]
          },
          "metadata": {
            "tags": []
          },
          "execution_count": 2
        }
      ]
    },
    {
      "cell_type": "markdown",
      "metadata": {
        "id": "inctWTwqR5SB"
      },
      "source": [
        "# Example 1 - Scale the x-axis to log-type\n"
      ]
    },
    {
      "cell_type": "code",
      "metadata": {
        "colab": {
          "base_uri": "https://localhost:8080/",
          "height": 355
        },
        "id": "H2bTzseaR7gR",
        "outputId": "2d4c2a42-144f-484e-e823-fc1857e62c8c"
      },
      "source": [
        "plt.figure(figsize=[20 , 5])\n",
        "\n",
        "# HISTOGRAM ON LEFT: full data without scaling\n",
        "plt.subplot(1 , 2 ,1)\n",
        "plt.hist(data=pokemon ,x='weight');\n",
        "\n",
        "# Display a label on the x-axis\n",
        "plt.xlabel('Initial plot with original data')\n",
        "\n",
        "# HISTOGRAM ON RIGHT \n",
        "plt.subplot(1,2,2)\n",
        "# Get the ticks for bins between [0 - maximum weight]\n",
        "bins = np.arange(0, pokemon['weight'].max()+40, 40)\n",
        "plt.hist(data=pokemon, x='weight', bins=bins);\n",
        "# The argument in the xscale() represents the axis scale type to apply.\n",
        "# The possible values are: {\"linear\", \"log\", \"symlog\", \"logit\", ...}\n",
        "# Refer - https://matplotlib.org/3.1.1/api/_as_gen/matplotlib.pyplot.xscale.html\n",
        "plt.xscale('log')\n",
        "plt.xlabel('The x-axis limits NOT are changed. They are only scaled to log-type')"
      ],
      "execution_count": null,
      "outputs": [
        {
          "output_type": "execute_result",
          "data": {
            "text/plain": [
              "Text(0.5, 0, 'The x-axis limits NOT are changed. They are only scaled to log-type')"
            ]
          },
          "metadata": {
            "tags": []
          },
          "execution_count": 11
        },
        {
          "output_type": "display_data",
          "data": {
            "image/png": "[encoded data removed]",
            "text/plain": [
              "<Figure size 1440x360 with 2 Axes>"
            ]
          },
          "metadata": {
            "tags": [],
            "needs_background": "light"
          }
        }
      ]
    },
    {
      "cell_type": "code",
      "metadata": {
        "colab": {
          "base_uri": "https://localhost:8080/"
        },
        "id": "cfRKdO6DSHa7",
        "outputId": "b795d9ea-ad68-4a08-891a-1cdc847797b0"
      },
      "source": [
        "pokemon['weight'].describe()\n"
      ],
      "execution_count": null,
      "outputs": [
        {
          "output_type": "execute_result",
          "data": {
            "text/plain": [
              "count    807.000000\n",
              "mean      61.771128\n",
              "std      111.519355\n",
              "min        0.100000\n",
              "25%        9.000000\n",
              "50%       27.000000\n",
              "75%       63.000000\n",
              "max      999.900000\n",
              "Name: weight, dtype: float64"
            ]
          },
          "metadata": {
            "tags": []
          },
          "execution_count": 12
        }
      ]
    },
    {
      "cell_type": "markdown",
      "metadata": {
        "id": "Lbp1VqvbY-zi"
      },
      "source": [
        "# Example 2 - Scale the x-axis to log-type, and change the axis limit.\n"
      ]
    },
    {
      "cell_type": "code",
      "metadata": {
        "colab": {
          "base_uri": "https://localhost:8080/"
        },
        "id": "5viX2_p1Y_v_",
        "outputId": "0b6a6231-2c1c-4ccf-dd96-95edaff495f0"
      },
      "source": [
        "# Transform the describe() to a scale of log10\n",
        "# Documentation: [numpy `log10`](https://docs.scipy.org/doc/numpy/reference/generated/numpy.log10.html)\n",
        "np.log10(pokemon['weight'].describe())"
      ],
      "execution_count": null,
      "outputs": [
        {
          "output_type": "execute_result",
          "data": {
            "text/plain": [
              "count    2.906874\n",
              "mean     1.790786\n",
              "std      2.047350\n",
              "min     -1.000000\n",
              "25%      0.954243\n",
              "50%      1.431364\n",
              "75%      1.799341\n",
              "max      2.999957\n",
              "Name: weight, dtype: float64"
            ]
          },
          "metadata": {
            "tags": []
          },
          "execution_count": 13
        }
      ]
    },
    {
      "cell_type": "code",
      "metadata": {
        "colab": {
          "base_uri": "https://localhost:8080/",
          "height": 300
        },
        "id": "epPjcqjlZCKx",
        "outputId": "5b4c5f24-54a0-4417-8110-2df49d826a1d"
      },
      "source": [
        "# Axis transformation\n",
        "# Bin size\n",
        "bins = 10 ** np.arange(-1, 3+0.1, 0.1)\n",
        "plt.hist(data=pokemon, x='weight', bins=bins);\n",
        "\n",
        "# The argument in the xscale() represents the axis scale type to apply.\n",
        "# The possible values are: {\"linear\", \"log\", \"symlog\", \"logit\", ...}\n",
        "plt.xscale('log')\n",
        "\n",
        "# Apply x-axis label\n",
        "# Documentatin: [matplotlib `xlabel`](https://matplotlib.org/api/_as_gen/matplotlib.pyplot.xlabel.html))\n",
        "plt.xlabel('x-axis limits are changed, and scaled to log-type')"
      ],
      "execution_count": null,
      "outputs": [
        {
          "output_type": "execute_result",
          "data": {
            "text/plain": [
              "Text(0.5, 0, 'x-axis limits are changed, and scaled to log-type')"
            ]
          },
          "metadata": {
            "tags": []
          },
          "execution_count": 14
        },
        {
          "output_type": "display_data",
          "data": {
            "image/png": "[encoded data removed]",
            "text/plain": [
              "<Figure size 432x288 with 1 Axes>"
            ]
          },
          "metadata": {
            "tags": [],
            "needs_background": "light"
          }
        }
      ]
    },
    {
      "cell_type": "markdown",
      "metadata": {
        "id": "MNINPpEHZPmA"
      },
      "source": [
        "# Example 3 - Scale the x-axis to log-type, change the axis limits, and increase the x-ticks\n"
      ]
    },
    {
      "cell_type": "code",
      "metadata": {
        "colab": {
          "base_uri": "https://localhost:8080/",
          "height": 265
        },
        "id": "lZIfaYdBZMvN",
        "outputId": "a0373b34-8d3e-48e0-e9d8-92d5667bf919"
      },
      "source": [
        "\n",
        "# Get the ticks for bins between [0 - maximum weight]\n",
        "bins = 10 ** np.arange(-1, 3+0.1, 0.1)\n",
        "\n",
        "# Generate the x-ticks you want to apply\n",
        "ticks = [0.1, 0.3, 1, 3, 10, 30, 100, 300, 1000]\n",
        "# Convert ticks into string values, to be displaye dlong the x-axis\n",
        "labels = ['{}'.format(v) for v in ticks]\n",
        "\n",
        "# Plot the histogram\n",
        "plt.hist(data=pokemon, x='weight', bins=bins);\n",
        "\n",
        "# The argument in the xscale() represents the axis scale type to apply.\n",
        "# The possible values are: {\"linear\", \"log\", \"symlog\", \"logit\", ...}\n",
        "plt.xscale('log')\n",
        "\n",
        "# Apply x-ticks\n",
        "plt.xticks(ticks, labels);"
      ],
      "execution_count": null,
      "outputs": [
        {
          "output_type": "display_data",
          "data": {
            "image/png": "[encoded data removed]",
            "text/plain": [
              "<Figure size 432x288 with 1 Axes>"
            ]
          },
          "metadata": {
            "tags": [],
            "needs_background": "light"
          }
        }
      ]
    },
    {
      "cell_type": "markdown",
      "metadata": {
        "id": "-IXWVPvBZro0"
      },
      "source": [
        "# Alternative Approach\n",
        "Be aware that a logarithmic transformation is not the only one possible. When we perform a logarithmic transformation, our data values have to all be positive; it's impossible to take a log of zero or a negative number. In addition, the transformation implies that additive steps on the log scale will result in multiplicative changes in the natural scale, an important implication when it comes to data modeling. The type of transformation that you choose may be informed by the context for the data. For example, this Wikipedia section provides a few examples of places where log-normal distributions have been observed.\n",
        "\n",
        "If you want to use a different transformation that's not available in xscale, then you'll have to perform some feature engineering. In cases like this, we want to be systematic by writing a function that applies both the transformation and its inverse. The inverse will be useful in cases where we specify values in their transformed units and need to get the natural units back. For the purposes of demonstration, let's say that we want to try plotting the above data on a square-root transformation. (Perhaps the numbers represent areas, and we think it makes sense to model the data on a rough estimation of radius, length, or some other 1-d dimension.) We can create a visualization on this transformed scale like this:"
      ]
    },
    {
      "cell_type": "markdown",
      "metadata": {
        "id": "BmutWYnGZc9j"
      },
      "source": [
        "# Example 4. Custom scaling the given data Series, instead of using the built-in log scale\n"
      ]
    },
    {
      "cell_type": "code",
      "metadata": {
        "colab": {
          "base_uri": "https://localhost:8080/",
          "height": 265
        },
        "id": "mmxJGVo5Ze3b",
        "outputId": "c3957fdc-6c98-4d5c-ecad-e5fc0e2fefd2"
      },
      "source": [
        "def sqrt_trans(x, inverse = False):\n",
        "    \"\"\" transformation helper function \"\"\"\n",
        "    if not inverse:\n",
        "        return np.sqrt(x)\n",
        "    else:\n",
        "        return x ** 2\n",
        "\n",
        "# Bin resizing, to transform the x-axis    \n",
        "bin_edges = np.arange(0, sqrt_trans(pokemon['weight'].max())+1, 1)\n",
        "\n",
        "# Plot the scaled data\n",
        "plt.hist(pokemon['weight'].apply(sqrt_trans), bins = bin_edges)\n",
        "\n",
        "# Identify the tick-locations\n",
        "tick_locs = np.arange(0, sqrt_trans(pokemon['weight'].max())+10, 10)\n",
        "\n",
        "# Apply x-ticks\n",
        "plt.xticks(tick_locs, sqrt_trans(tick_locs, inverse = True).astype(int));"
      ],
      "execution_count": null,
      "outputs": [
        {
          "output_type": "display_data",
          "data": {
            "image/png": "[encoded data removed]",
            "text/plain": [
              "<Figure size 432x288 with 1 Axes>"
            ]
          },
          "metadata": {
            "tags": [],
            "needs_background": "light"
          }
        }
      ]
    }
  ]
}